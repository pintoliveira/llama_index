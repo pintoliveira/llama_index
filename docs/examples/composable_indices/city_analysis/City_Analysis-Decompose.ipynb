{
  "cells": [
    {
      "cell_type": "markdown",
      "id": "742d66f8",
      "metadata": {
        "id": "742d66f8"
      },
      "source": [
        "<a href=\"https://colab.research.google.com/github/jerryjliu/llama_index/blob/main/docs/examples/composable_indices/city_analysis/City_Analysis-Decompose.ipynb\" target=\"_parent\"><img src=\"https://colab.research.google.com/assets/colab-badge.svg\" alt=\"Open In Colab\"/></a>"
      ]
    },
    {
      "cell_type": "markdown",
      "id": "cfb64210-9c6b-47d7-81f4-67dbdab68e4c",
      "metadata": {
        "id": "cfb64210-9c6b-47d7-81f4-67dbdab68e4c"
      },
      "source": [
        "# Test Complex Queries over Multiple Documents (with and without Query Decomposition)\n",
        "\n",
        "Query Decomposition: The ability to decompose a complex query into a simpler query given the content of the index.\n",
        "\n",
        "Use ChatGPT as the LLM model"
      ]
    },
    {
      "cell_type": "markdown",
      "id": "a44c78d3",
      "metadata": {
        "id": "a44c78d3"
      },
      "source": [
        "If you're opening this Notebook on colab, you will probably need to install LlamaIndex 🦙."
      ]
    },
    {
      "cell_type": "code",
      "execution_count": null,
      "id": "fd04b123",
      "metadata": {
        "id": "fd04b123"
      },
      "outputs": [],
      "source": [
        "!pip install llama-index"
      ]
    },
    {
      "cell_type": "code",
      "execution_count": null,
      "id": "fa0e62b6",
      "metadata": {
        "id": "fa0e62b6"
      },
      "outputs": [],
      "source": [
        "import logging\n",
        "\n",
        "# logging.basicConfig(stream=sys.stdout, level=logging.INFO)\n",
        "# logging.getLogger().addHandler(logging.StreamHandler(stream=sys.stdout))\n",
        "\n",
        "# Uncomment if you want to temporarily disable logger\n",
        "logger = logging.getLogger()\n",
        "logger.disabled = True"
      ]
    },
    {
      "cell_type": "code",
      "execution_count": null,
      "id": "e27b0473-4bda-47f0-b6ed-fd482eac1a13",
      "metadata": {
        "id": "e27b0473-4bda-47f0-b6ed-fd482eac1a13",
        "outputId": "dbcf4484-65ae-487e-d6da-896a2dd7d76c"
      },
      "outputs": [
        {
          "name": "stderr",
          "output_type": "stream",
          "text": [
            "/Users/suo/miniconda3/envs/llama/lib/python3.9/site-packages/tqdm/auto.py:21: TqdmWarning: IProgress not found. Please update jupyter and ipywidgets. See https://ipywidgets.readthedocs.io/en/stable/user_install.html\n",
            "  from .autonotebook import tqdm as notebook_tqdm\n"
          ]
        }
      ],
      "source": [
        "from llama_index import (\n",
        "    VectorStoreIndex,\n",
        "    SimpleKeywordTableIndex,\n",
        "    SimpleDirectoryReader,\n",
        "    ServiceContext,\n",
        ")"
      ]
    },
    {
      "cell_type": "markdown",
      "id": "49e0d841-680f-4a0c-b455-788b54978ebf",
      "metadata": {
        "id": "49e0d841-680f-4a0c-b455-788b54978ebf"
      },
      "source": [
        "#### Load Datasets\n",
        "\n",
        "Load Wikipedia pages as well as Paul Graham's \"What I Worked On\" essay"
      ]
    },
    {
      "cell_type": "code",
      "execution_count": null,
      "id": "fc4692a1",
      "metadata": {
        "id": "fc4692a1"
      },
      "outputs": [],
      "source": [
        "wiki_titles = [\n",
        "    \"Toronto\",\n",
        "    \"Seattle\",\n",
        "    \"San Francisco\",\n",
        "    \"Chicago\",\n",
        "    \"Boston\",\n",
        "    \"Washington, D.C.\",\n",
        "    \"Cambridge, Massachusetts\",\n",
        "    \"Houston\",\n",
        "]"
      ]
    },
    {
      "cell_type": "code",
      "execution_count": null,
      "id": "9ec16a8b-6aae-4bf7-9b83-b82087b4ea52",
      "metadata": {
        "id": "9ec16a8b-6aae-4bf7-9b83-b82087b4ea52"
      },
      "outputs": [],
      "source": [
        "from pathlib import Path\n",
        "\n",
        "import requests\n",
        "\n",
        "for title in wiki_titles:\n",
        "    response = requests.get(\n",
        "        \"https://en.wikipedia.org/w/api.php\",\n",
        "        params={\n",
        "            \"action\": \"query\",\n",
        "            \"format\": \"json\",\n",
        "            \"titles\": title,\n",
        "            \"prop\": \"extracts\",\n",
        "            # 'exintro': True,\n",
        "            \"explaintext\": True,\n",
        "        },\n",
        "    ).json()\n",
        "    page = next(iter(response[\"query\"][\"pages\"].values()))\n",
        "    wiki_text = page[\"extract\"]\n",
        "\n",
        "    data_path = Path(\"data\")\n",
        "    if not data_path.exists():\n",
        "        Path.mkdir(data_path)\n",
        "\n",
        "    with open(data_path / f\"{title}.txt\", \"w\") as fp:\n",
        "        fp.write(wiki_text)"
      ]
    },
    {
      "cell_type": "code",
      "execution_count": null,
      "id": "39c00aeb-adef-4ce3-8134-031de18e64ea",
      "metadata": {
        "id": "39c00aeb-adef-4ce3-8134-031de18e64ea"
      },
      "outputs": [],
      "source": [
        "# Load all wiki documents\n",
        "city_docs = {}\n",
        "for wiki_title in wiki_titles:\n",
        "    city_docs[wiki_title] = SimpleDirectoryReader(\n",
        "        input_files=[f\"data/{wiki_title}.txt\"]\n",
        "    ).load_data()"
      ]
    },
    {
      "cell_type": "markdown",
      "id": "f1782198-c0de-4679-8951-1297c21b8639",
      "metadata": {
        "id": "f1782198-c0de-4679-8951-1297c21b8639"
      },
      "source": [
        "### Building the document indices\n",
        "Build a vector index for the wiki pages about cities and persons, and PG essay"
      ]
    },
    {
      "cell_type": "code",
      "execution_count": null,
      "id": "M0GylZB-C2zL",
      "metadata": {
        "id": "M0GylZB-C2zL",
        "outputId": "b29a785e-9962-4119-a058-343e60090060"
      },
      "outputs": [
        {
          "name": "stderr",
          "output_type": "stream",
          "text": [
            "/Users/suo/miniconda3/envs/llama/lib/python3.9/site-packages/langchain/llms/openai.py:661: UserWarning: You are trying to use a chat model. This way of initializing it is no longer supported. Instead, please use: `from langchain.chat_models import ChatOpenAI`\n",
            "  warnings.warn(\n"
          ]
        }
      ],
      "source": [
        "# # LLM Predictor (gpt-3.5-turbo)\n",
        "from llama_index.llms.openai import OpenAI\n",
        "\n",
        "\n",
        "chatgpt = OpenAI(temperature=0, model=\"gpt-3.5-turbo\")\n",
        "service_context = ServiceContext.from_defaults(llm=chatgpt)"
      ]
    },
    {
      "cell_type": "code",
      "execution_count": null,
      "id": "5431e83e-428b-4473-bad1-24b7a6c4db38",
      "metadata": {
        "id": "5431e83e-428b-4473-bad1-24b7a6c4db38",
        "outputId": "c00395e7-6ae1-4d2a-a0ee-7a52cdd32006"
      },
      "outputs": [
        {
          "name": "stderr",
          "output_type": "stream",
          "text": [
            "INFO:llama_index.token_counter.token_counter:> [build_index_from_nodes] Total LLM token usage: 0 tokens\n",
            "INFO:llama_index.token_counter.token_counter:> [build_index_from_nodes] Total embedding token usage: 20744 tokens\n",
            "INFO:llama_index.token_counter.token_counter:> [build_index_from_nodes] Total LLM token usage: 0 tokens\n",
            "INFO:llama_index.token_counter.token_counter:> [build_index_from_nodes] Total embedding token usage: 16942 tokens\n",
            "INFO:llama_index.token_counter.token_counter:> [build_index_from_nodes] Total LLM token usage: 0 tokens\n",
            "INFO:llama_index.token_counter.token_counter:> [build_index_from_nodes] Total embedding token usage: 23433 tokens\n",
            "INFO:llama_index.token_counter.token_counter:> [build_index_from_nodes] Total LLM token usage: 0 tokens\n",
            "INFO:llama_index.token_counter.token_counter:> [build_index_from_nodes] Total embedding token usage: 26082 tokens\n",
            "INFO:llama_index.token_counter.token_counter:> [build_index_from_nodes] Total LLM token usage: 0 tokens\n",
            "INFO:llama_index.token_counter.token_counter:> [build_index_from_nodes] Total embedding token usage: 18614 tokens\n",
            "INFO:llama_index.token_counter.token_counter:> [build_index_from_nodes] Total LLM token usage: 0 tokens\n",
            "INFO:llama_index.token_counter.token_counter:> [build_index_from_nodes] Total embedding token usage: 21649 tokens\n",
            "INFO:llama_index.token_counter.token_counter:> [build_index_from_nodes] Total LLM token usage: 0 tokens\n",
            "INFO:llama_index.token_counter.token_counter:> [build_index_from_nodes] Total embedding token usage: 12855 tokens\n",
            "INFO:llama_index.token_counter.token_counter:> [build_index_from_nodes] Total LLM token usage: 0 tokens\n",
            "INFO:llama_index.token_counter.token_counter:> [build_index_from_nodes] Total embedding token usage: 21844 tokens\n"
          ]
        }
      ],
      "source": [
        "# Build city document index\n",
        "city_indices = {}\n",
        "index_summaries = {}\n",
        "for wiki_title in wiki_titles:\n",
        "    city_indices[wiki_title] = VectorStoreIndex.from_documents(\n",
        "        city_docs[wiki_title], service_context=service_context\n",
        "    )\n",
        "    # set summary text for city\n",
        "    index_summaries[wiki_title] = f\"Wikipedia articles about {wiki_title}\""
      ]
    },
    {
      "cell_type": "markdown",
      "id": "d4d3cd8b-4134-4cfa-8002-e0a34694d2e1",
      "metadata": {
        "id": "d4d3cd8b-4134-4cfa-8002-e0a34694d2e1"
      },
      "source": [
        "### Build Graph: Keyword Table Index on top of vector indices!\n",
        "\n",
        "We compose a keyword table index on top of all the vector indices."
      ]
    },
    {
      "cell_type": "code",
      "execution_count": null,
      "id": "6d68750c-e5ae-481a-8b03-6173020c9bf3",
      "metadata": {
        "id": "6d68750c-e5ae-481a-8b03-6173020c9bf3"
      },
      "outputs": [],
      "source": [
        "from llama_index.indices.composability import ComposableGraph"
      ]
    },
    {
      "cell_type": "code",
      "execution_count": null,
      "id": "f975514f-fddd-4737-91de-97bc61394ea9",
      "metadata": {
        "id": "f975514f-fddd-4737-91de-97bc61394ea9",
        "outputId": "49705489-b4fc-4034-f00f-aaefaeecc673"
      },
      "outputs": [
        {
          "name": "stderr",
          "output_type": "stream",
          "text": [
            "INFO:llama_index.token_counter.token_counter:> [build_index_from_nodes] Total LLM token usage: 0 tokens\n",
            "INFO:llama_index.token_counter.token_counter:> [build_index_from_nodes] Total embedding token usage: 0 tokens\n"
          ]
        }
      ],
      "source": [
        "graph = ComposableGraph.from_indices(\n",
        "    SimpleKeywordTableIndex,\n",
        "    [index for _, index in city_indices.items()],\n",
        "    [summary for _, summary in index_summaries.items()],\n",
        "    max_keywords_per_chunk=50,\n",
        ")"
      ]
    },
    {
      "cell_type": "markdown",
      "id": "b4c36f69-596b-4974-afa2-09cc652c1111",
      "metadata": {
        "id": "b4c36f69-596b-4974-afa2-09cc652c1111"
      },
      "source": [
        "### Define Query Configs"
      ]
    },
    {
      "cell_type": "markdown",
      "id": "accd31e4-0ae7-4660-833c-5ae23037fd14",
      "metadata": {
        "id": "accd31e4-0ae7-4660-833c-5ae23037fd14"
      },
      "source": [
        "**Query Transform**"
      ]
    },
    {
      "cell_type": "code",
      "execution_count": null,
      "id": "82432236-fa93-4269-b695-d6d2131edb41",
      "metadata": {
        "id": "82432236-fa93-4269-b695-d6d2131edb41"
      },
      "outputs": [],
      "source": [
        "from llama_index.indices.query.query_transform.base import (\n",
        "    DecomposeQueryTransform,\n",
        ")\n",
        "\n",
        "decompose_transform = DecomposeQueryTransform(\n",
        "    service_context.llm, verbose=True\n",
        ")"
      ]
    },
    {
      "cell_type": "markdown",
      "id": "018d0a51-3a3f-4dc5-9e1d-f2e79eb0cc43",
      "metadata": {
        "id": "018d0a51-3a3f-4dc5-9e1d-f2e79eb0cc43"
      },
      "source": [
        "**Complex Query 1**"
      ]
    },
    {
      "cell_type": "code",
      "execution_count": null,
      "id": "f40e4216",
      "metadata": {
        "id": "f40e4216"
      },
      "outputs": [],
      "source": [
        "# with query decomposition in subindices\n",
        "from llama_index.query_engine.transform_query_engine import (\n",
        "    TransformQueryEngine,\n",
        ")\n",
        "\n",
        "\n",
        "custom_query_engines = {}\n",
        "for index in city_indices.values():\n",
        "    query_engine = index.as_query_engine(service_context=service_context)\n",
        "    transform_metadata = {\"index_summary\": index.index_struct.summary}\n",
        "    tranformed_query_engine = TransformQueryEngine(\n",
        "        query_engine,\n",
        "        decompose_transform,\n",
        "        transform_metadata=transform_metadata,\n",
        "    )\n",
        "    custom_query_engines[index.index_id] = tranformed_query_engine\n",
        "\n",
        "custom_query_engines[\n",
        "    graph.root_index.index_id\n",
        "] = graph.root_index.as_query_engine(\n",
        "    retriever_mode=\"simple\",\n",
        "    response_mode=\"tree_summarize\",\n",
        "    service_context=service_context,\n",
        ")\n",
        "\n",
        "query_engine_decompose = graph.as_query_engine(\n",
        "    custom_query_engines=custom_query_engines,\n",
        ")"
      ]
    },
    {
      "cell_type": "code",
      "execution_count": null,
      "id": "5705e023-e5bc-4c1b-bed4-8d70a6152122",
      "metadata": {
        "id": "5705e023-e5bc-4c1b-bed4-8d70a6152122",
        "outputId": "092e9da4-1b00-44e9-bc33-81b7ea908b57"
      },
      "outputs": [
        {
          "name": "stderr",
          "output_type": "stream",
          "text": [
            "INFO:llama_index.indices.keyword_table.retrievers:> Starting query: Compare and contrast the airports in Seattle, Houston, and Toronto. \n",
            "INFO:llama_index.indices.keyword_table.retrievers:query keywords: ['toronto', 'airports', 'seattle', 'contrast', 'compare', 'houston']\n",
            "INFO:llama_index.indices.keyword_table.retrievers:> Extracted keywords: ['toronto', 'seattle', 'houston']\n",
            "INFO:llama_index.token_counter.token_counter:> [retrieve] Total LLM token usage: 0 tokens\n",
            "INFO:llama_index.token_counter.token_counter:> [retrieve] Total embedding token usage: 12 tokens\n"
          ]
        },
        {
          "name": "stdout",
          "output_type": "stream",
          "text": [
            "\u001b[33;1m\u001b[1;3m> Current query: Compare and contrast the airports in Seattle, Houston, and Toronto. \n",
            "\u001b[0m\u001b[38;5;200m\u001b[1;3m> New query: What are some notable features of the Toronto Pearson International Airport?\n",
            "\u001b[0m\u001b[33;1m\u001b[1;3m> Current query: Compare and contrast the airports in Seattle, Houston, and Toronto. \n",
            "\u001b[0m\u001b[38;5;200m\u001b[1;3m> New query: What are some notable features of the Toronto Pearson International Airport?\n",
            "\u001b[0m"
          ]
        },
        {
          "name": "stderr",
          "output_type": "stream",
          "text": [
            "INFO:llama_index.token_counter.token_counter:> [get_response] Total LLM token usage: 1142 tokens\n",
            "INFO:llama_index.token_counter.token_counter:> [get_response] Total embedding token usage: 0 tokens\n",
            "INFO:llama_index.token_counter.token_counter:> [get_response] Total LLM token usage: 1142 tokens\n",
            "INFO:llama_index.token_counter.token_counter:> [get_response] Total embedding token usage: 0 tokens\n",
            "INFO:llama_index.token_counter.token_counter:> [retrieve] Total LLM token usage: 0 tokens\n",
            "INFO:llama_index.token_counter.token_counter:> [retrieve] Total embedding token usage: 10 tokens\n"
          ]
        },
        {
          "name": "stdout",
          "output_type": "stream",
          "text": [
            "\u001b[33;1m\u001b[1;3m> Current query: Compare and contrast the airports in Seattle, Houston, and Toronto. \n",
            "\u001b[0m\u001b[38;5;200m\u001b[1;3m> New query: What is the name of the airport in Seattle?\n",
            "\u001b[0m\u001b[33;1m\u001b[1;3m> Current query: Compare and contrast the airports in Seattle, Houston, and Toronto. \n",
            "\u001b[0m\u001b[38;5;200m\u001b[1;3m> New query: What is the name of the airport in Seattle?\n",
            "\u001b[0m"
          ]
        },
        {
          "name": "stderr",
          "output_type": "stream",
          "text": [
            "INFO:llama_index.token_counter.token_counter:> [get_response] Total LLM token usage: 1773 tokens\n",
            "INFO:llama_index.token_counter.token_counter:> [get_response] Total embedding token usage: 0 tokens\n",
            "INFO:llama_index.token_counter.token_counter:> [get_response] Total LLM token usage: 1773 tokens\n",
            "INFO:llama_index.token_counter.token_counter:> [get_response] Total embedding token usage: 0 tokens\n"
          ]
        },
        {
          "name": "stdout",
          "output_type": "stream",
          "text": [
            "\u001b[33;1m\u001b[1;3m> Current query: Compare and contrast the airports in Seattle, Houston, and Toronto. \n",
            "\u001b[0m\u001b[38;5;200m\u001b[1;3m> New query: What are the major airports in Houston?\n",
            "\u001b[0m"
          ]
        },
        {
          "name": "stderr",
          "output_type": "stream",
          "text": [
            "INFO:llama_index.token_counter.token_counter:> [retrieve] Total LLM token usage: 0 tokens\n",
            "INFO:llama_index.token_counter.token_counter:> [retrieve] Total embedding token usage: 8 tokens\n"
          ]
        },
        {
          "name": "stdout",
          "output_type": "stream",
          "text": [
            "\u001b[33;1m\u001b[1;3m> Current query: Compare and contrast the airports in Seattle, Houston, and Toronto. \n",
            "\u001b[0m\u001b[38;5;200m\u001b[1;3m> New query: What are the major airports in Houston?\n",
            "\u001b[0m"
          ]
        },
        {
          "name": "stderr",
          "output_type": "stream",
          "text": [
            "INFO:llama_index.token_counter.token_counter:> [get_response] Total LLM token usage: 1162 tokens\n",
            "INFO:llama_index.token_counter.token_counter:> [get_response] Total embedding token usage: 0 tokens\n",
            "INFO:llama_index.token_counter.token_counter:> [get_response] Total LLM token usage: 1162 tokens\n",
            "INFO:llama_index.token_counter.token_counter:> [get_response] Total embedding token usage: 0 tokens\n",
            "INFO:llama_index.token_counter.token_counter:> [get_response] Total LLM token usage: 254 tokens\n",
            "INFO:llama_index.token_counter.token_counter:> [get_response] Total embedding token usage: 0 tokens\n",
            "INFO:llama_index.token_counter.token_counter:> [get_response] Total LLM token usage: 254 tokens\n",
            "INFO:llama_index.token_counter.token_counter:> [get_response] Total embedding token usage: 0 tokens\n"
          ]
        }
      ],
      "source": [
        "response_chatgpt = query_engine_decompose.query(\n",
        "    \"Compare and contrast the airports in Seattle, Houston, and Toronto. \"\n",
        ")"
      ]
    },
    {
      "cell_type": "code",
      "execution_count": null,
      "id": "13108dca-8ce6-4485-a018-dcab2514868d",
      "metadata": {
        "id": "13108dca-8ce6-4485-a018-dcab2514868d",
        "outputId": "4e51a722-d9c0-47ed-d331-8e798e2bb7a8"
      },
      "outputs": [
        {
          "name": "stdout",
          "output_type": "stream",
          "text": [
            "Seattle has one major airport called Seattle-Tacoma International Airport, while Houston has two major airports called George Bush Intercontinental Airport and William P. Hobby Airport, as well as a third municipal airport called Ellington Airport. Toronto Pearson International Airport is Canada's busiest airport and offers limited commercial and passenger service to nearby destinations in Canada and the United States. All three cities have at least one major airport, but Houston has more options with two major airports.\n"
          ]
        }
      ],
      "source": [
        "print(str(response_chatgpt))"
      ]
    },
    {
      "cell_type": "code",
      "execution_count": null,
      "id": "08359128",
      "metadata": {
        "id": "08359128"
      },
      "outputs": [],
      "source": [
        "# without query decomposition in subindices\n",
        "\n",
        "custom_query_engines = {}\n",
        "for index in city_indices.values():\n",
        "    query_engine = index.as_query_engine(service_context=service_context)\n",
        "    custom_query_engines[index.index_id] = query_engine\n",
        "\n",
        "custom_query_engines[\n",
        "    graph.root_index.index_id\n",
        "] = graph.root_index.as_query_engine(\n",
        "    retriever_mode=\"simple\",\n",
        "    response_mode=\"tree_summarize\",\n",
        "    service_context=service_context,\n",
        ")\n",
        "\n",
        "query_engine = graph.as_query_engine(\n",
        "    custom_query_engines=custom_query_engines,\n",
        ")"
      ]
    },
    {
      "cell_type": "code",
      "execution_count": null,
      "id": "d39a5e4d-6a5a-4375-9ec0-1cad18f06996",
      "metadata": {
        "id": "d39a5e4d-6a5a-4375-9ec0-1cad18f06996",
        "outputId": "65d58d2f-ba21-4271-c829-e6d38e2a3faa"
      },
      "outputs": [
        {
          "name": "stderr",
          "output_type": "stream",
          "text": [
            "INFO:llama_index.indices.keyword_table.retrievers:> Starting query: Compare and contrast the airports in Seattle, Houston, and Toronto. \n",
            "INFO:llama_index.indices.keyword_table.retrievers:query keywords: ['toronto', 'airports', 'seattle', 'contrast', 'compare', 'houston']\n",
            "INFO:llama_index.indices.keyword_table.retrievers:> Extracted keywords: ['toronto', 'seattle', 'houston']\n",
            "INFO:llama_index.token_counter.token_counter:> [retrieve] Total LLM token usage: 0 tokens\n",
            "INFO:llama_index.token_counter.token_counter:> [retrieve] Total embedding token usage: 14 tokens\n",
            "INFO:llama_index.token_counter.token_counter:> [get_response] Total LLM token usage: 1114 tokens\n",
            "INFO:llama_index.token_counter.token_counter:> [get_response] Total embedding token usage: 0 tokens\n",
            "INFO:llama_index.token_counter.token_counter:> [get_response] Total LLM token usage: 1114 tokens\n",
            "INFO:llama_index.token_counter.token_counter:> [get_response] Total embedding token usage: 0 tokens\n",
            "INFO:llama_index.token_counter.token_counter:> [retrieve] Total LLM token usage: 0 tokens\n",
            "INFO:llama_index.token_counter.token_counter:> [retrieve] Total embedding token usage: 0 tokens\n",
            "INFO:llama_index.token_counter.token_counter:> [get_response] Total LLM token usage: 1799 tokens\n",
            "INFO:llama_index.token_counter.token_counter:> [get_response] Total embedding token usage: 0 tokens\n",
            "INFO:llama_index.token_counter.token_counter:> [get_response] Total LLM token usage: 1799 tokens\n",
            "INFO:llama_index.token_counter.token_counter:> [get_response] Total embedding token usage: 0 tokens\n",
            "INFO:llama_index.token_counter.token_counter:> [retrieve] Total LLM token usage: 0 tokens\n",
            "INFO:llama_index.token_counter.token_counter:> [retrieve] Total embedding token usage: 0 tokens\n",
            "INFO:llama_index.token_counter.token_counter:> [get_response] Total LLM token usage: 1186 tokens\n",
            "INFO:llama_index.token_counter.token_counter:> [get_response] Total embedding token usage: 0 tokens\n",
            "INFO:llama_index.token_counter.token_counter:> [get_response] Total LLM token usage: 1186 tokens\n",
            "INFO:llama_index.token_counter.token_counter:> [get_response] Total embedding token usage: 0 tokens\n",
            "INFO:llama_index.token_counter.token_counter:> [get_response] Total LLM token usage: 196 tokens\n",
            "INFO:llama_index.token_counter.token_counter:> [get_response] Total embedding token usage: 0 tokens\n",
            "INFO:llama_index.token_counter.token_counter:> [get_response] Total LLM token usage: 196 tokens\n",
            "INFO:llama_index.token_counter.token_counter:> [get_response] Total embedding token usage: 0 tokens\n"
          ]
        }
      ],
      "source": [
        "response_chatgpt = query_engine.query(\n",
        "    \"Compare and contrast the airports in Seattle, Houston, and Toronto. \"\n",
        ")"
      ]
    },
    {
      "cell_type": "code",
      "execution_count": null,
      "id": "f63aaa69-9b12-4e4f-801e-ba70fe50a0ef",
      "metadata": {
        "id": "f63aaa69-9b12-4e4f-801e-ba70fe50a0ef",
        "outputId": "a2686ea0-b180-4a29-93b3-b1259afced4f"
      },
      "outputs": [
        {
          "data": {
            "text/plain": [
              "'It is not possible to compare and contrast the airports in Seattle, Houston, and Toronto based on the given context information.'"
            ]
          },
          "execution_count": null,
          "metadata": {},
          "output_type": "execute_result"
        }
      ],
      "source": [
        "str(response_chatgpt)"
      ]
    },
    {
      "cell_type": "markdown",
      "id": "d3cb4d7b-7bcc-46bf-b7d6-d0230c3d7fdd",
      "metadata": {
        "id": "d3cb4d7b-7bcc-46bf-b7d6-d0230c3d7fdd"
      },
      "source": [
        "**Complex Query 2**"
      ]
    },
    {
      "cell_type": "code",
      "execution_count": null,
      "id": "6f621760-fb65-455c-8a31-e53442f9d24a",
      "metadata": {
        "id": "6f621760-fb65-455c-8a31-e53442f9d24a",
        "outputId": "a142f85d-740a-42da-d361-e5de488deb3a"
      },
      "outputs": [
        {
          "name": "stderr",
          "output_type": "stream",
          "text": [
            "INFO:llama_index.indices.keyword_table.retrievers:> Starting query: Compare and contrast the sports environment of Houston and Boston. \n",
            "INFO:llama_index.indices.keyword_table.retrievers:query keywords: ['environment', 'contrast', 'sports', 'compare', 'houston', 'boston']\n",
            "INFO:llama_index.indices.keyword_table.retrievers:> Extracted keywords: ['houston', 'boston']\n"
          ]
        },
        {
          "name": "stdout",
          "output_type": "stream",
          "text": [
            "\u001b[33;1m\u001b[1;3m> Current query: Compare and contrast the sports environment of Houston and Boston. \n",
            "\u001b[0m\u001b[38;5;200m\u001b[1;3m> New query: What sports teams are based in Houston?\n",
            "\u001b[0m"
          ]
        },
        {
          "name": "stderr",
          "output_type": "stream",
          "text": [
            "INFO:llama_index.token_counter.token_counter:> [retrieve] Total LLM token usage: 0 tokens\n",
            "INFO:llama_index.token_counter.token_counter:> [retrieve] Total embedding token usage: 8 tokens\n"
          ]
        },
        {
          "name": "stdout",
          "output_type": "stream",
          "text": [
            "\u001b[33;1m\u001b[1;3m> Current query: Compare and contrast the sports environment of Houston and Boston. \n",
            "\u001b[0m\u001b[38;5;200m\u001b[1;3m> New query: What sports teams are based in Houston?\n",
            "\u001b[0m"
          ]
        },
        {
          "name": "stderr",
          "output_type": "stream",
          "text": [
            "INFO:llama_index.token_counter.token_counter:> [get_response] Total LLM token usage: 1861 tokens\n",
            "INFO:llama_index.token_counter.token_counter:> [get_response] Total embedding token usage: 0 tokens\n",
            "INFO:llama_index.token_counter.token_counter:> [get_response] Total LLM token usage: 1861 tokens\n",
            "INFO:llama_index.token_counter.token_counter:> [get_response] Total embedding token usage: 0 tokens\n",
            "INFO:llama_index.token_counter.token_counter:> [retrieve] Total LLM token usage: 0 tokens\n",
            "INFO:llama_index.token_counter.token_counter:> [retrieve] Total embedding token usage: 10 tokens\n"
          ]
        },
        {
          "name": "stdout",
          "output_type": "stream",
          "text": [
            "\u001b[33;1m\u001b[1;3m> Current query: Compare and contrast the sports environment of Houston and Boston. \n",
            "\u001b[0m\u001b[38;5;200m\u001b[1;3m> New query: What are some notable sports teams based in Boston?\n",
            "\u001b[0m\u001b[33;1m\u001b[1;3m> Current query: Compare and contrast the sports environment of Houston and Boston. \n",
            "\u001b[0m\u001b[38;5;200m\u001b[1;3m> New query: What are some notable sports teams based in Boston?\n",
            "\u001b[0m"
          ]
        },
        {
          "name": "stderr",
          "output_type": "stream",
          "text": [
            "INFO:llama_index.token_counter.token_counter:> [get_response] Total LLM token usage: 1812 tokens\n",
            "INFO:llama_index.token_counter.token_counter:> [get_response] Total embedding token usage: 0 tokens\n",
            "INFO:llama_index.token_counter.token_counter:> [get_response] Total LLM token usage: 1812 tokens\n",
            "INFO:llama_index.token_counter.token_counter:> [get_response] Total embedding token usage: 0 tokens\n",
            "INFO:llama_index.token_counter.token_counter:> [get_response] Total LLM token usage: 226 tokens\n",
            "INFO:llama_index.token_counter.token_counter:> [get_response] Total embedding token usage: 0 tokens\n",
            "INFO:llama_index.token_counter.token_counter:> [get_response] Total LLM token usage: 226 tokens\n",
            "INFO:llama_index.token_counter.token_counter:> [get_response] Total embedding token usage: 0 tokens\n"
          ]
        }
      ],
      "source": [
        "# with query decomposition\n",
        "response_chatgpt = query_engine_decompose.query(\n",
        "    \"Compare and contrast the sports environment of Houston and Boston. \"\n",
        ")"
      ]
    },
    {
      "cell_type": "code",
      "execution_count": null,
      "id": "98f4728f-a190-4e9b-b9d9-1361f6f4c50d",
      "metadata": {
        "id": "98f4728f-a190-4e9b-b9d9-1361f6f4c50d",
        "outputId": "aff26d8b-5ee8-46f3-df59-5ee6d4546ac4"
      },
      "outputs": [
        {
          "data": {
            "text/plain": [
              "'Houston has sports teams for every major professional league except the National Hockey League, while Boston has teams for Major League Baseball, National Hockey League, National Basketball Association, National Football League, Major League Lacrosse, and Overwatch League. Both cities have a strong sports culture, but Boston has a more diverse range of professional sports teams.'"
            ]
          },
          "execution_count": null,
          "metadata": {},
          "output_type": "execute_result"
        }
      ],
      "source": [
        "str(response_chatgpt)"
      ]
    },
    {
      "cell_type": "code",
      "execution_count": null,
      "id": "800ff760-6ee8-4c5a-93a3-5823d132060a",
      "metadata": {
        "id": "800ff760-6ee8-4c5a-93a3-5823d132060a",
        "outputId": "b51a3877-a402-403b-e88f-73616bf32635"
      },
      "outputs": [
        {
          "name": "stderr",
          "output_type": "stream",
          "text": [
            "INFO:llama_index.indices.keyword_table.retrievers:> Starting query: Compare and contrast the sports environment of Houston and Boston. \n",
            "INFO:llama_index.indices.keyword_table.retrievers:query keywords: ['environment', 'contrast', 'sports', 'compare', 'houston', 'boston']\n",
            "INFO:llama_index.indices.keyword_table.retrievers:> Extracted keywords: ['houston', 'boston']\n",
            "INFO:llama_index.token_counter.token_counter:> [retrieve] Total LLM token usage: 0 tokens\n",
            "INFO:llama_index.token_counter.token_counter:> [retrieve] Total embedding token usage: 12 tokens\n",
            "INFO:llama_index.token_counter.token_counter:> [get_response] Total LLM token usage: 1795 tokens\n",
            "INFO:llama_index.token_counter.token_counter:> [get_response] Total embedding token usage: 0 tokens\n",
            "INFO:llama_index.token_counter.token_counter:> [get_response] Total LLM token usage: 1795 tokens\n",
            "INFO:llama_index.token_counter.token_counter:> [get_response] Total embedding token usage: 0 tokens\n",
            "INFO:llama_index.token_counter.token_counter:> [retrieve] Total LLM token usage: 0 tokens\n",
            "INFO:llama_index.token_counter.token_counter:> [retrieve] Total embedding token usage: 0 tokens\n",
            "INFO:llama_index.token_counter.token_counter:> [get_response] Total LLM token usage: 1792 tokens\n",
            "INFO:llama_index.token_counter.token_counter:> [get_response] Total embedding token usage: 0 tokens\n",
            "INFO:llama_index.token_counter.token_counter:> [get_response] Total LLM token usage: 1792 tokens\n",
            "INFO:llama_index.token_counter.token_counter:> [get_response] Total embedding token usage: 0 tokens\n",
            "INFO:llama_index.token_counter.token_counter:> [get_response] Total LLM token usage: 119 tokens\n",
            "INFO:llama_index.token_counter.token_counter:> [get_response] Total embedding token usage: 0 tokens\n",
            "INFO:llama_index.token_counter.token_counter:> [get_response] Total LLM token usage: 119 tokens\n",
            "INFO:llama_index.token_counter.token_counter:> [get_response] Total embedding token usage: 0 tokens\n"
          ]
        }
      ],
      "source": [
        "# without query decomposition\n",
        "response_chatgpt = query_engine.query(\n",
        "    \"Compare and contrast the sports environment of Houston and Boston. \"\n",
        ")"
      ]
    },
    {
      "cell_type": "code",
      "execution_count": null,
      "id": "6f6d1661-a224-4bd2-81c6-7e1b51b8b11b",
      "metadata": {
        "id": "6f6d1661-a224-4bd2-81c6-7e1b51b8b11b",
        "outputId": "c659e838-7e20-49d4-afeb-398e568bb5e5"
      },
      "outputs": [
        {
          "data": {
            "text/plain": [
              "'Sorry, I cannot answer this question as there is no information provided about the sports environment of Houston or Boston in the given context information.'"
            ]
          },
          "execution_count": null,
          "metadata": {},
          "output_type": "execute_result"
        }
      ],
      "source": [
        "str(response_chatgpt)"
      ]
    },
    {
      "cell_type": "code",
      "execution_count": null,
      "id": "cac6b56a-34e2-46d3-94fe-3acdde66aa66",
      "metadata": {
        "id": "cac6b56a-34e2-46d3-94fe-3acdde66aa66",
        "outputId": "c78920d9-ef51-454b-e547-232cca2db9db"
      },
      "outputs": [
        {
          "name": "stderr",
          "output_type": "stream",
          "text": [
            "INFO:llama_index.indices.keyword_table.retrievers:> Starting query: Compare and contrast the sports environment of Houston and Boston. \n",
            "INFO:llama_index.indices.keyword_table.retrievers:query keywords: ['environment', 'contrast', 'sports', 'compare', 'houston', 'boston']\n",
            "INFO:llama_index.indices.keyword_table.retrievers:> Extracted keywords: ['houston', 'boston']\n"
          ]
        },
        {
          "name": "stdout",
          "output_type": "stream",
          "text": [
            "\u001b[33;1m\u001b[1;3m> Current query: Compare and contrast the sports environment of Houston and Boston. \n",
            "\u001b[0m\u001b[38;5;200m\u001b[1;3m> New query: What sports teams are based in Houston?\n",
            "\u001b[0m"
          ]
        },
        {
          "name": "stderr",
          "output_type": "stream",
          "text": [
            "INFO:llama_index.token_counter.token_counter:> [retrieve] Total LLM token usage: 0 tokens\n",
            "INFO:llama_index.token_counter.token_counter:> [retrieve] Total embedding token usage: 8 tokens\n"
          ]
        },
        {
          "name": "stdout",
          "output_type": "stream",
          "text": [
            "\u001b[33;1m\u001b[1;3m> Current query: Compare and contrast the sports environment of Houston and Boston. \n",
            "\u001b[0m\u001b[38;5;200m\u001b[1;3m> New query: What sports teams are based in Houston?\n",
            "\u001b[0m"
          ]
        },
        {
          "name": "stderr",
          "output_type": "stream",
          "text": [
            "INFO:llama_index.token_counter.token_counter:> [get_response] Total LLM token usage: 1861 tokens\n",
            "INFO:llama_index.token_counter.token_counter:> [get_response] Total embedding token usage: 0 tokens\n",
            "INFO:llama_index.token_counter.token_counter:> [get_response] Total LLM token usage: 1861 tokens\n",
            "INFO:llama_index.token_counter.token_counter:> [get_response] Total embedding token usage: 0 tokens\n"
          ]
        },
        {
          "name": "stdout",
          "output_type": "stream",
          "text": [
            "\u001b[33;1m\u001b[1;3m> Current query: Compare and contrast the sports environment of Houston and Boston. \n",
            "\u001b[0m\u001b[38;5;200m\u001b[1;3m> New query: What are some notable sports teams based in Boston?\n",
            "\u001b[0m"
          ]
        },
        {
          "name": "stderr",
          "output_type": "stream",
          "text": [
            "INFO:llama_index.token_counter.token_counter:> [retrieve] Total LLM token usage: 0 tokens\n",
            "INFO:llama_index.token_counter.token_counter:> [retrieve] Total embedding token usage: 10 tokens\n"
          ]
        },
        {
          "name": "stdout",
          "output_type": "stream",
          "text": [
            "\u001b[33;1m\u001b[1;3m> Current query: Compare and contrast the sports environment of Houston and Boston. \n",
            "\u001b[0m\u001b[38;5;200m\u001b[1;3m> New query: What are some notable sports teams based in Boston?\n",
            "\u001b[0m"
          ]
        },
        {
          "name": "stderr",
          "output_type": "stream",
          "text": [
            "INFO:llama_index.token_counter.token_counter:> [get_response] Total LLM token usage: 1812 tokens\n",
            "INFO:llama_index.token_counter.token_counter:> [get_response] Total embedding token usage: 0 tokens\n",
            "INFO:llama_index.token_counter.token_counter:> [get_response] Total LLM token usage: 1812 tokens\n",
            "INFO:llama_index.token_counter.token_counter:> [get_response] Total embedding token usage: 0 tokens\n",
            "INFO:llama_index.token_counter.token_counter:> [get_response] Total LLM token usage: 226 tokens\n",
            "INFO:llama_index.token_counter.token_counter:> [get_response] Total embedding token usage: 0 tokens\n",
            "INFO:llama_index.token_counter.token_counter:> [get_response] Total LLM token usage: 226 tokens\n",
            "INFO:llama_index.token_counter.token_counter:> [get_response] Total embedding token usage: 0 tokens\n"
          ]
        }
      ],
      "source": [
        "# with query decomposition\n",
        "response_chatgpt = query_engine_decompose.query(\n",
        "    \"Compare and contrast the sports environment of Houston and Boston. \"\n",
        ")"
      ]
    },
    {
      "cell_type": "code",
      "execution_count": null,
      "id": "226ee4f5-c941-4497-a04c-630757622282",
      "metadata": {
        "id": "226ee4f5-c941-4497-a04c-630757622282",
        "outputId": "ae0658a5-e9b3-4a37-e46a-f1efdae824c4"
      },
      "outputs": [
        {
          "name": "stdout",
          "output_type": "stream",
          "text": [
            "Houston has sports teams for every major professional league except the National Hockey League, while Boston has teams for Major League Baseball, National Hockey League, National Basketball Association, National Football League, Major League Lacrosse, and Overwatch League. Both cities have a strong sports culture, but Boston has a more diverse range of professional sports teams.\n"
          ]
        }
      ],
      "source": [
        "print(response_chatgpt)"
      ]
    },
    {
      "cell_type": "code",
      "execution_count": null,
      "id": "e12aa255-af39-4ef1-9071-ded49aa84d9f",
      "metadata": {
        "id": "e12aa255-af39-4ef1-9071-ded49aa84d9f",
        "outputId": "6ef2d8cb-352b-43d4-9d09-047f5358e508"
      },
      "outputs": [
        {
          "name": "stderr",
          "output_type": "stream",
          "text": [
            "INFO:llama_index.indices.keyword_table.retrievers:> Starting query: Compare and contrast the sports environment of Houston and Boston. \n",
            "INFO:llama_index.indices.keyword_table.retrievers:query keywords: ['environment', 'contrast', 'sports', 'compare', 'houston', 'boston']\n",
            "INFO:llama_index.indices.keyword_table.retrievers:> Extracted keywords: ['houston', 'boston']\n",
            "INFO:llama_index.token_counter.token_counter:> [retrieve] Total LLM token usage: 0 tokens\n",
            "INFO:llama_index.token_counter.token_counter:> [retrieve] Total embedding token usage: 12 tokens\n",
            "INFO:llama_index.token_counter.token_counter:> [get_response] Total LLM token usage: 1795 tokens\n",
            "INFO:llama_index.token_counter.token_counter:> [get_response] Total embedding token usage: 0 tokens\n",
            "INFO:llama_index.token_counter.token_counter:> [get_response] Total LLM token usage: 1795 tokens\n",
            "INFO:llama_index.token_counter.token_counter:> [get_response] Total embedding token usage: 0 tokens\n",
            "INFO:llama_index.token_counter.token_counter:> [retrieve] Total LLM token usage: 0 tokens\n",
            "INFO:llama_index.token_counter.token_counter:> [retrieve] Total embedding token usage: 0 tokens\n",
            "INFO:llama_index.token_counter.token_counter:> [get_response] Total LLM token usage: 1792 tokens\n",
            "INFO:llama_index.token_counter.token_counter:> [get_response] Total embedding token usage: 0 tokens\n",
            "INFO:llama_index.token_counter.token_counter:> [get_response] Total LLM token usage: 1792 tokens\n",
            "INFO:llama_index.token_counter.token_counter:> [get_response] Total embedding token usage: 0 tokens\n",
            "INFO:llama_index.token_counter.token_counter:> [get_response] Total LLM token usage: 119 tokens\n",
            "INFO:llama_index.token_counter.token_counter:> [get_response] Total embedding token usage: 0 tokens\n",
            "INFO:llama_index.token_counter.token_counter:> [get_response] Total LLM token usage: 119 tokens\n",
            "INFO:llama_index.token_counter.token_counter:> [get_response] Total embedding token usage: 0 tokens\n"
          ]
        }
      ],
      "source": [
        "# without query decomposition\n",
        "response_chatgpt = query_engine.query(\n",
        "    \"Compare and contrast the sports environment of Houston and Boston. \"\n",
        ")"
      ]
    },
    {
      "cell_type": "code",
      "execution_count": null,
      "id": "001c646d-33fd-4b4a-b4c7-44203e8e9401",
      "metadata": {
        "id": "001c646d-33fd-4b4a-b4c7-44203e8e9401",
        "outputId": "9816ee8d-37b5-48c6-aef3-68d1025e7135"
      },
      "outputs": [
        {
          "name": "stdout",
          "output_type": "stream",
          "text": [
            "Sorry, I cannot answer this question as there is no information provided about the sports environment of Houston or Boston in the given context information.\n"
          ]
        }
      ],
      "source": [
        "print(response_chatgpt)"
      ]
    },
    {
      "cell_type": "markdown",
      "id": "53f527c8-0d53-4b29-8f1f-7b5bf22ca55e",
      "metadata": {
        "id": "53f527c8-0d53-4b29-8f1f-7b5bf22ca55e"
      },
      "source": [
        "**Complex Query 3**"
      ]
    },
    {
      "cell_type": "code",
      "execution_count": null,
      "id": "4cb83f2e-f838-4384-acd0-eb12f72ad2ec",
      "metadata": {
        "id": "4cb83f2e-f838-4384-acd0-eb12f72ad2ec",
        "outputId": "c6f49736-e58c-4cc6-ae63-ea50fda105a7"
      },
      "outputs": [
        {
          "name": "stderr",
          "output_type": "stream",
          "text": [
            "INFO:llama_index.indices.keyword_table.retrievers:> Starting query: Compare and contrast the arts and culture of Houston and Boston. \n",
            "INFO:llama_index.indices.keyword_table.retrievers:query keywords: ['arts', 'culture', 'contrast', 'compare', 'houston', 'boston']\n",
            "INFO:llama_index.indices.keyword_table.retrievers:> Extracted keywords: ['houston', 'boston']\n",
            "INFO:llama_index.token_counter.token_counter:> [retrieve] Total LLM token usage: 0 tokens\n",
            "INFO:llama_index.token_counter.token_counter:> [retrieve] Total embedding token usage: 9 tokens\n"
          ]
        },
        {
          "name": "stdout",
          "output_type": "stream",
          "text": [
            "\u001b[33;1m\u001b[1;3m> Current query: Compare and contrast the arts and culture of Houston and Boston. \n",
            "\u001b[0m\u001b[38;5;200m\u001b[1;3m> New query: What are some notable cultural institutions in Houston?\n",
            "\u001b[0m\u001b[33;1m\u001b[1;3m> Current query: Compare and contrast the arts and culture of Houston and Boston. \n",
            "\u001b[0m\u001b[38;5;200m\u001b[1;3m> New query: What are some notable cultural institutions in Houston?\n",
            "\u001b[0m"
          ]
        },
        {
          "name": "stderr",
          "output_type": "stream",
          "text": [
            "INFO:llama_index.token_counter.token_counter:> [get_response] Total LLM token usage: 1835 tokens\n",
            "INFO:llama_index.token_counter.token_counter:> [get_response] Total embedding token usage: 0 tokens\n",
            "INFO:llama_index.token_counter.token_counter:> [get_response] Total LLM token usage: 1835 tokens\n",
            "INFO:llama_index.token_counter.token_counter:> [get_response] Total embedding token usage: 0 tokens\n"
          ]
        },
        {
          "name": "stdout",
          "output_type": "stream",
          "text": [
            "\u001b[33;1m\u001b[1;3m> Current query: Compare and contrast the arts and culture of Houston and Boston. \n",
            "\u001b[0m\u001b[38;5;200m\u001b[1;3m> New query: What are some notable cultural institutions in Boston?\n",
            "\u001b[0m"
          ]
        },
        {
          "name": "stderr",
          "output_type": "stream",
          "text": [
            "INFO:llama_index.token_counter.token_counter:> [retrieve] Total LLM token usage: 0 tokens\n",
            "INFO:llama_index.token_counter.token_counter:> [retrieve] Total embedding token usage: 9 tokens\n"
          ]
        },
        {
          "name": "stdout",
          "output_type": "stream",
          "text": [
            "\u001b[33;1m\u001b[1;3m> Current query: Compare and contrast the arts and culture of Houston and Boston. \n",
            "\u001b[0m\u001b[38;5;200m\u001b[1;3m> New query: What are some notable cultural institutions in Boston?\n",
            "\u001b[0m"
          ]
        },
        {
          "name": "stderr",
          "output_type": "stream",
          "text": [
            "INFO:llama_index.token_counter.token_counter:> [get_response] Total LLM token usage: 1918 tokens\n",
            "INFO:llama_index.token_counter.token_counter:> [get_response] Total embedding token usage: 0 tokens\n",
            "INFO:llama_index.token_counter.token_counter:> [get_response] Total LLM token usage: 1918 tokens\n",
            "INFO:llama_index.token_counter.token_counter:> [get_response] Total embedding token usage: 0 tokens\n",
            "INFO:llama_index.token_counter.token_counter:> [get_response] Total LLM token usage: 444 tokens\n",
            "INFO:llama_index.token_counter.token_counter:> [get_response] Total embedding token usage: 0 tokens\n",
            "INFO:llama_index.token_counter.token_counter:> [get_response] Total LLM token usage: 444 tokens\n",
            "INFO:llama_index.token_counter.token_counter:> [get_response] Total embedding token usage: 0 tokens\n"
          ]
        }
      ],
      "source": [
        "# with query decomposition\n",
        "response_chatgpt = query_engine_decompose.query(\n",
        "    \"Compare and contrast the arts and culture of Houston and Boston. \"\n",
        ")"
      ]
    },
    {
      "cell_type": "code",
      "execution_count": null,
      "id": "0aa7efdf-c8c0-4efb-83a0-ad617f120307",
      "metadata": {
        "id": "0aa7efdf-c8c0-4efb-83a0-ad617f120307",
        "outputId": "885a8086-0b8b-4370-874c-1d8737e1737d"
      },
      "outputs": [
        {
          "name": "stdout",
          "output_type": "stream",
          "text": [
            "Both Houston and Boston have a variety of cultural institutions, including museums, performing arts organizations, and theaters. Some notable museums in both cities include the Museum of Fine Arts. However, Houston has a greater focus on contemporary art with institutions such as the Contemporary Arts Museum Houston and the Station Museum of Contemporary Art. Boston, on the other hand, has a unique museum in the Isabella Stewart Gardner Museum, which features a collection of art and artifacts in a recreated Venetian palace. In terms of performing arts, both cities have symphony orchestras and opera companies, but Boston also has a strong focus on contemporary classical music with groups such as the Boston Modern Orchestra Project. Overall, while both cities have a rich arts and culture scene, they differ in their specific areas of focus.\n"
          ]
        }
      ],
      "source": [
        "print(response_chatgpt)"
      ]
    },
    {
      "cell_type": "code",
      "execution_count": null,
      "id": "3afe8251-9901-4843-b72a-ba4c7d6024b9",
      "metadata": {
        "id": "3afe8251-9901-4843-b72a-ba4c7d6024b9",
        "outputId": "d75c9e7b-9296-4fb0-f08c-1ec19a5ac13c"
      },
      "outputs": [
        {
          "name": "stderr",
          "output_type": "stream",
          "text": [
            "INFO:llama_index.indices.keyword_table.retrievers:> Starting query: Compare and contrast the arts and culture of Houston and Boston. \n",
            "INFO:llama_index.indices.keyword_table.retrievers:query keywords: ['arts', 'culture', 'contrast', 'compare', 'houston', 'boston']\n",
            "INFO:llama_index.indices.keyword_table.retrievers:> Extracted keywords: ['houston', 'boston']\n",
            "INFO:llama_index.token_counter.token_counter:> [retrieve] Total LLM token usage: 0 tokens\n",
            "INFO:llama_index.token_counter.token_counter:> [retrieve] Total embedding token usage: 13 tokens\n",
            "INFO:llama_index.token_counter.token_counter:> [get_response] Total LLM token usage: 1779 tokens\n",
            "INFO:llama_index.token_counter.token_counter:> [get_response] Total embedding token usage: 0 tokens\n",
            "INFO:llama_index.token_counter.token_counter:> [get_response] Total LLM token usage: 1779 tokens\n",
            "INFO:llama_index.token_counter.token_counter:> [get_response] Total embedding token usage: 0 tokens\n",
            "INFO:llama_index.token_counter.token_counter:> [retrieve] Total LLM token usage: 0 tokens\n",
            "INFO:llama_index.token_counter.token_counter:> [retrieve] Total embedding token usage: 0 tokens\n",
            "INFO:llama_index.token_counter.token_counter:> [get_response] Total LLM token usage: 1817 tokens\n",
            "INFO:llama_index.token_counter.token_counter:> [get_response] Total embedding token usage: 0 tokens\n",
            "INFO:llama_index.token_counter.token_counter:> [get_response] Total LLM token usage: 1817 tokens\n",
            "INFO:llama_index.token_counter.token_counter:> [get_response] Total embedding token usage: 0 tokens\n",
            "INFO:llama_index.token_counter.token_counter:> [get_response] Total LLM token usage: 122 tokens\n",
            "INFO:llama_index.token_counter.token_counter:> [get_response] Total embedding token usage: 0 tokens\n",
            "INFO:llama_index.token_counter.token_counter:> [get_response] Total LLM token usage: 122 tokens\n",
            "INFO:llama_index.token_counter.token_counter:> [get_response] Total embedding token usage: 0 tokens\n"
          ]
        }
      ],
      "source": [
        "# without query decomposition\n",
        "response_chatgpt = query_engine.query(\n",
        "    \"Compare and contrast the arts and culture of Houston and Boston. \"\n",
        ")"
      ]
    },
    {
      "cell_type": "code",
      "execution_count": null,
      "id": "10c6ca94-c053-4009-b52d-a5255e74853c",
      "metadata": {
        "id": "10c6ca94-c053-4009-b52d-a5255e74853c",
        "outputId": "6d673b13-a4c2-4954-faaf-42aeddf79b35"
      },
      "outputs": [
        {
          "name": "stdout",
          "output_type": "stream",
          "text": [
            "I'm sorry, but there is not enough information provided to compare and contrast the arts and culture of Houston and Boston.\n"
          ]
        }
      ],
      "source": [
        "print(response_chatgpt)"
      ]
    }
  ],
  "metadata": {
    "colab": {
      "provenance": []
    },
    "kernelspec": {
      "display_name": "llama",
      "language": "python",
      "name": "python3"
    },
    "language_info": {
      "codemirror_mode": {
        "name": "ipython",
        "version": 3
      },
      "file_extension": ".py",
      "mimetype": "text/x-python",
      "name": "python",
      "nbconvert_exporter": "python",
      "pygments_lexer": "ipython3"
    }
  },
  "nbformat": 4,
  "nbformat_minor": 5
}